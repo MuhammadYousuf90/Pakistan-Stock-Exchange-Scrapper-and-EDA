{
 "cells": [
  {
   "cell_type": "code",
   "execution_count": 2,
   "metadata": {},
   "outputs": [],
   "source": [
    "from  bs4 import BeautifulSoup \n",
    "import requests\n",
    "from datetime import date\n",
    "import pyodbc"
   ]
  },
  {
   "cell_type": "code",
   "execution_count": 37,
   "metadata": {},
   "outputs": [
    {
     "name": "stdout",
     "output_type": "stream",
     "text": [
      "https://pk.indeed.com/jobs?q=Web%20Developer&l=Pakistan\n"
     ]
    }
   ],
   "source": [
    "role1 = \"Web\"\n",
    "role2 = \"Developer\"\n",
    "location = \"Pakistan\"\n",
    "\n",
    "month=\"01\"\n",
    "year=\"2020\"\n",
    "\n",
    "try:\n",
    "    url=\"https://pk.indeed.com/jobs?q=\"+str(role1)+\"%20\"+str(role2)+\"&l=\"+str(location);\n",
    "    print(url)\n",
    "    eq = requests.get(url)\n",
    "except:\n",
    "    print(\"Wrong url\")"
   ]
  },
  {
   "cell_type": "code",
   "execution_count": 38,
   "metadata": {},
   "outputs": [],
   "source": [
    "Date = '%s-%s-%s' % (role1,role2, location)"
   ]
  },
  {
   "cell_type": "code",
   "execution_count": 39,
   "metadata": {},
   "outputs": [
    {
     "data": {
      "text/plain": [
       "'Web-Developer-Pakistan'"
      ]
     },
     "execution_count": 39,
     "metadata": {},
     "output_type": "execute_result"
    }
   ],
   "source": [
    "Date"
   ]
  },
  {
   "cell_type": "code",
   "execution_count": 42,
   "metadata": {},
   "outputs": [],
   "source": [
    "html_cont = eq.content       #req\n",
    "soup = BeautifulSoup(html_cont,'html.parser',from_encoding=\"utf-8\")"
   ]
  },
  {
   "cell_type": "code",
   "execution_count": 43,
   "metadata": {},
   "outputs": [],
   "source": [
    "rows_data=[]"
   ]
  },
  {
   "cell_type": "code",
   "execution_count": 47,
   "metadata": {},
   "outputs": [],
   "source": [
    "table = soup.find_all('div',class_=\"mosaic-zone\")\n",
    "try:\n",
    "        \n",
    "    for row in table.find_all('ul', class_=['mosaic', 'mosaic mosaic-provider-jobcards']):\n",
    "        \n",
    "            cols = row.find_all('li')\n",
    "    #         print(cols)\n",
    "            rows_data.append((cols[0].text.strip(), cols[1].text.strip(), cols[2].text.strip(), cols[3].text.strip()))\n",
    "except:\n",
    "    pass"
   ]
  },
  {
   "cell_type": "code",
   "execution_count": 48,
   "metadata": {},
   "outputs": [
    {
     "data": {
      "text/plain": [
       "[]"
      ]
     },
     "execution_count": 48,
     "metadata": {},
     "output_type": "execute_result"
    }
   ],
   "source": [
    "rows_data"
   ]
  },
  {
   "cell_type": "code",
   "execution_count": 10,
   "metadata": {},
   "outputs": [],
   "source": [
    "import pandas as pd\n",
    "import numpy as np"
   ]
  },
  {
   "cell_type": "code",
   "execution_count": 11,
   "metadata": {},
   "outputs": [
    {
     "data": {
      "text/plain": [
       "265"
      ]
     },
     "execution_count": 11,
     "metadata": {},
     "output_type": "execute_result"
    }
   ],
   "source": [
    "scrap_data = np.asarray(rows_data)\n",
    "len(scrap_data)"
   ]
  },
  {
   "cell_type": "code",
   "execution_count": 12,
   "metadata": {},
   "outputs": [],
   "source": [
    "df = pd.DataFrame(scrap_data)\n",
    "#df.columns = ['FundName', 'Category','Inception_Date', 'Rupees in 000']"
   ]
  },
  {
   "cell_type": "code",
   "execution_count": 13,
   "metadata": {},
   "outputs": [
    {
     "data": {
      "text/html": [
       "<div>\n",
       "<style scoped>\n",
       "    .dataframe tbody tr th:only-of-type {\n",
       "        vertical-align: middle;\n",
       "    }\n",
       "\n",
       "    .dataframe tbody tr th {\n",
       "        vertical-align: top;\n",
       "    }\n",
       "\n",
       "    .dataframe thead th {\n",
       "        text-align: right;\n",
       "    }\n",
       "</style>\n",
       "<table border=\"1\" class=\"dataframe\">\n",
       "  <thead>\n",
       "    <tr style=\"text-align: right;\">\n",
       "      <th></th>\n",
       "      <th>0</th>\n",
       "      <th>1</th>\n",
       "      <th>2</th>\n",
       "      <th>3</th>\n",
       "    </tr>\n",
       "  </thead>\n",
       "  <tbody>\n",
       "    <tr>\n",
       "      <th>0</th>\n",
       "      <td>ABL Cash Fund</td>\n",
       "      <td>Money Market</td>\n",
       "      <td>July 31, 2010</td>\n",
       "      <td>23,294,324</td>\n",
       "    </tr>\n",
       "    <tr>\n",
       "      <th>1</th>\n",
       "      <td>ABL Financial Planning Fund (Active Plan)</td>\n",
       "      <td>Fund of Funds</td>\n",
       "      <td>December 31, 2015</td>\n",
       "      <td>229,029</td>\n",
       "    </tr>\n",
       "    <tr>\n",
       "      <th>2</th>\n",
       "      <td>ABL Financial Planning Fund (Conservative Plan)</td>\n",
       "      <td>Fund of Funds</td>\n",
       "      <td>December 31, 2015</td>\n",
       "      <td>195,142</td>\n",
       "    </tr>\n",
       "    <tr>\n",
       "      <th>3</th>\n",
       "      <td>ABL Financial Planning Fund (Strategic Allocat...</td>\n",
       "      <td>Fund of Funds</td>\n",
       "      <td>December 30, 2016</td>\n",
       "      <td>257,715</td>\n",
       "    </tr>\n",
       "    <tr>\n",
       "      <th>4</th>\n",
       "      <td>ABL Government Securities Fund</td>\n",
       "      <td>Income</td>\n",
       "      <td>November 29, 2011</td>\n",
       "      <td>3,932,977</td>\n",
       "    </tr>\n",
       "    <tr>\n",
       "      <th>5</th>\n",
       "      <td>ABL Income Fund</td>\n",
       "      <td>Income</td>\n",
       "      <td>September 19, 2008</td>\n",
       "      <td>1,311,426</td>\n",
       "    </tr>\n",
       "    <tr>\n",
       "      <th>6</th>\n",
       "      <td>ABL Islamic Asset Allocation Fund</td>\n",
       "      <td>Shariah Compliant Asset Allocation</td>\n",
       "      <td>May 31, 2018</td>\n",
       "      <td>219,839</td>\n",
       "    </tr>\n",
       "    <tr>\n",
       "      <th>7</th>\n",
       "      <td>ABL Islamic Cash Fund</td>\n",
       "      <td>Shariah Compliant Money Market</td>\n",
       "      <td>February 13, 2020</td>\n",
       "      <td>Not Published</td>\n",
       "    </tr>\n",
       "    <tr>\n",
       "      <th>8</th>\n",
       "      <td>ABL Islamic Financial Planning Fund (Active Al...</td>\n",
       "      <td>Shariah Compliant Fund of Funds</td>\n",
       "      <td>December 22, 2015</td>\n",
       "      <td>542,414</td>\n",
       "    </tr>\n",
       "    <tr>\n",
       "      <th>9</th>\n",
       "      <td>ABL Islamic Financial Planning Fund (Aggressiv...</td>\n",
       "      <td>Shariah Compliant Fund of Funds</td>\n",
       "      <td>December 22, 2015</td>\n",
       "      <td>54,774</td>\n",
       "    </tr>\n",
       "  </tbody>\n",
       "</table>\n",
       "</div>"
      ],
      "text/plain": [
       "                                                   0  \\\n",
       "0                                      ABL Cash Fund   \n",
       "1          ABL Financial Planning Fund (Active Plan)   \n",
       "2    ABL Financial Planning Fund (Conservative Plan)   \n",
       "3  ABL Financial Planning Fund (Strategic Allocat...   \n",
       "4                     ABL Government Securities Fund   \n",
       "5                                    ABL Income Fund   \n",
       "6                  ABL Islamic Asset Allocation Fund   \n",
       "7                              ABL Islamic Cash Fund   \n",
       "8  ABL Islamic Financial Planning Fund (Active Al...   \n",
       "9  ABL Islamic Financial Planning Fund (Aggressiv...   \n",
       "\n",
       "                                    1                   2              3  \n",
       "0                        Money Market       July 31, 2010     23,294,324  \n",
       "1                       Fund of Funds   December 31, 2015        229,029  \n",
       "2                       Fund of Funds   December 31, 2015        195,142  \n",
       "3                       Fund of Funds   December 30, 2016        257,715  \n",
       "4                              Income   November 29, 2011      3,932,977  \n",
       "5                              Income  September 19, 2008      1,311,426  \n",
       "6  Shariah Compliant Asset Allocation        May 31, 2018        219,839  \n",
       "7      Shariah Compliant Money Market   February 13, 2020  Not Published  \n",
       "8     Shariah Compliant Fund of Funds   December 22, 2015        542,414  \n",
       "9     Shariah Compliant Fund of Funds   December 22, 2015         54,774  "
      ]
     },
     "execution_count": 13,
     "metadata": {},
     "output_type": "execute_result"
    }
   ],
   "source": [
    "df.head(10)"
   ]
  },
  {
   "cell_type": "code",
   "execution_count": 14,
   "metadata": {},
   "outputs": [],
   "source": [
    "col_Names=['FundName','Category','DDate','Rupeesin000']"
   ]
  },
  {
   "cell_type": "code",
   "execution_count": 15,
   "metadata": {},
   "outputs": [],
   "source": [
    "df = pd.DataFrame(df)\n",
    "df.columns=['FundName','Category','DDate','Rupeesin000']"
   ]
  },
  {
   "cell_type": "code",
   "execution_count": 16,
   "metadata": {},
   "outputs": [
    {
     "data": {
      "text/html": [
       "<div>\n",
       "<style scoped>\n",
       "    .dataframe tbody tr th:only-of-type {\n",
       "        vertical-align: middle;\n",
       "    }\n",
       "\n",
       "    .dataframe tbody tr th {\n",
       "        vertical-align: top;\n",
       "    }\n",
       "\n",
       "    .dataframe thead th {\n",
       "        text-align: right;\n",
       "    }\n",
       "</style>\n",
       "<table border=\"1\" class=\"dataframe\">\n",
       "  <thead>\n",
       "    <tr style=\"text-align: right;\">\n",
       "      <th></th>\n",
       "      <th>FundName</th>\n",
       "      <th>Category</th>\n",
       "      <th>DDate</th>\n",
       "      <th>Rupeesin000</th>\n",
       "    </tr>\n",
       "  </thead>\n",
       "  <tbody>\n",
       "    <tr>\n",
       "      <th>0</th>\n",
       "      <td>ABL Cash Fund</td>\n",
       "      <td>Money Market</td>\n",
       "      <td>July 31, 2010</td>\n",
       "      <td>23,294,324</td>\n",
       "    </tr>\n",
       "    <tr>\n",
       "      <th>1</th>\n",
       "      <td>ABL Financial Planning Fund (Active Plan)</td>\n",
       "      <td>Fund of Funds</td>\n",
       "      <td>December 31, 2015</td>\n",
       "      <td>229,029</td>\n",
       "    </tr>\n",
       "    <tr>\n",
       "      <th>2</th>\n",
       "      <td>ABL Financial Planning Fund (Conservative Plan)</td>\n",
       "      <td>Fund of Funds</td>\n",
       "      <td>December 31, 2015</td>\n",
       "      <td>195,142</td>\n",
       "    </tr>\n",
       "    <tr>\n",
       "      <th>3</th>\n",
       "      <td>ABL Financial Planning Fund (Strategic Allocat...</td>\n",
       "      <td>Fund of Funds</td>\n",
       "      <td>December 30, 2016</td>\n",
       "      <td>257,715</td>\n",
       "    </tr>\n",
       "    <tr>\n",
       "      <th>4</th>\n",
       "      <td>ABL Government Securities Fund</td>\n",
       "      <td>Income</td>\n",
       "      <td>November 29, 2011</td>\n",
       "      <td>3,932,977</td>\n",
       "    </tr>\n",
       "  </tbody>\n",
       "</table>\n",
       "</div>"
      ],
      "text/plain": [
       "                                            FundName       Category  \\\n",
       "0                                      ABL Cash Fund   Money Market   \n",
       "1          ABL Financial Planning Fund (Active Plan)  Fund of Funds   \n",
       "2    ABL Financial Planning Fund (Conservative Plan)  Fund of Funds   \n",
       "3  ABL Financial Planning Fund (Strategic Allocat...  Fund of Funds   \n",
       "4                     ABL Government Securities Fund         Income   \n",
       "\n",
       "               DDate Rupeesin000  \n",
       "0      July 31, 2010  23,294,324  \n",
       "1  December 31, 2015     229,029  \n",
       "2  December 31, 2015     195,142  \n",
       "3  December 30, 2016     257,715  \n",
       "4  November 29, 2011   3,932,977  "
      ]
     },
     "execution_count": 16,
     "metadata": {},
     "output_type": "execute_result"
    }
   ],
   "source": [
    "df.head()"
   ]
  },
  {
   "cell_type": "code",
   "execution_count": 17,
   "metadata": {},
   "outputs": [],
   "source": [
    "i = df[ df['Category'] == 'Fund of Funds' ].index\n",
    "j = df[ df['Category'] == 'Shariah Compliant Fund of Funds' ].index\n",
    "k = df[ df['Category'] == 'Shariah Compliant Fund of Funds - CPPI' ].index"
   ]
  },
  {
   "cell_type": "code",
   "execution_count": 18,
   "metadata": {},
   "outputs": [],
   "source": [
    "df.drop(i, inplace = True)\n",
    "df.drop(j, inplace = True)\n",
    "df.drop(k, inplace = True)"
   ]
  },
  {
   "cell_type": "code",
   "execution_count": 19,
   "metadata": {},
   "outputs": [
    {
     "data": {
      "text/html": [
       "<div>\n",
       "<style scoped>\n",
       "    .dataframe tbody tr th:only-of-type {\n",
       "        vertical-align: middle;\n",
       "    }\n",
       "\n",
       "    .dataframe tbody tr th {\n",
       "        vertical-align: top;\n",
       "    }\n",
       "\n",
       "    .dataframe thead th {\n",
       "        text-align: right;\n",
       "    }\n",
       "</style>\n",
       "<table border=\"1\" class=\"dataframe\">\n",
       "  <thead>\n",
       "    <tr style=\"text-align: right;\">\n",
       "      <th></th>\n",
       "      <th>FundName</th>\n",
       "      <th>Category</th>\n",
       "      <th>DDate</th>\n",
       "      <th>Rupeesin000</th>\n",
       "    </tr>\n",
       "  </thead>\n",
       "  <tbody>\n",
       "    <tr>\n",
       "      <th>0</th>\n",
       "      <td>ABL Cash Fund</td>\n",
       "      <td>Money Market</td>\n",
       "      <td>July 31, 2010</td>\n",
       "      <td>23,294,324</td>\n",
       "    </tr>\n",
       "    <tr>\n",
       "      <th>4</th>\n",
       "      <td>ABL Government Securities Fund</td>\n",
       "      <td>Income</td>\n",
       "      <td>November 29, 2011</td>\n",
       "      <td>3,932,977</td>\n",
       "    </tr>\n",
       "    <tr>\n",
       "      <th>5</th>\n",
       "      <td>ABL Income Fund</td>\n",
       "      <td>Income</td>\n",
       "      <td>September 19, 2008</td>\n",
       "      <td>1,311,426</td>\n",
       "    </tr>\n",
       "    <tr>\n",
       "      <th>6</th>\n",
       "      <td>ABL Islamic Asset Allocation Fund</td>\n",
       "      <td>Shariah Compliant Asset Allocation</td>\n",
       "      <td>May 31, 2018</td>\n",
       "      <td>219,839</td>\n",
       "    </tr>\n",
       "    <tr>\n",
       "      <th>7</th>\n",
       "      <td>ABL Islamic Cash Fund</td>\n",
       "      <td>Shariah Compliant Money Market</td>\n",
       "      <td>February 13, 2020</td>\n",
       "      <td>Not Published</td>\n",
       "    </tr>\n",
       "  </tbody>\n",
       "</table>\n",
       "</div>"
      ],
      "text/plain": [
       "                            FundName                            Category  \\\n",
       "0                      ABL Cash Fund                        Money Market   \n",
       "4     ABL Government Securities Fund                              Income   \n",
       "5                    ABL Income Fund                              Income   \n",
       "6  ABL Islamic Asset Allocation Fund  Shariah Compliant Asset Allocation   \n",
       "7              ABL Islamic Cash Fund      Shariah Compliant Money Market   \n",
       "\n",
       "                DDate    Rupeesin000  \n",
       "0       July 31, 2010     23,294,324  \n",
       "4   November 29, 2011      3,932,977  \n",
       "5  September 19, 2008      1,311,426  \n",
       "6        May 31, 2018        219,839  \n",
       "7   February 13, 2020  Not Published  "
      ]
     },
     "execution_count": 19,
     "metadata": {},
     "output_type": "execute_result"
    }
   ],
   "source": [
    "df.head()"
   ]
  },
  {
   "cell_type": "code",
   "execution_count": 20,
   "metadata": {},
   "outputs": [
    {
     "data": {
      "text/plain": [
       "(193, 4)"
      ]
     },
     "execution_count": 20,
     "metadata": {},
     "output_type": "execute_result"
    }
   ],
   "source": [
    "df.shape"
   ]
  },
  {
   "cell_type": "code",
   "execution_count": 21,
   "metadata": {},
   "outputs": [
    {
     "data": {
      "text/plain": [
       "FundName       object\n",
       "Category       object\n",
       "DDate          object\n",
       "Rupeesin000    object\n",
       "dtype: object"
      ]
     },
     "execution_count": 21,
     "metadata": {},
     "output_type": "execute_result"
    }
   ],
   "source": [
    "df.dtypes"
   ]
  },
  {
   "cell_type": "code",
   "execution_count": 22,
   "metadata": {},
   "outputs": [],
   "source": [
    "df_keep = [x for x in range(df.shape[1]) if x not in [1,2]]"
   ]
  },
  {
   "cell_type": "code",
   "execution_count": 23,
   "metadata": {},
   "outputs": [
    {
     "data": {
      "text/plain": [
       "[0, 3]"
      ]
     },
     "execution_count": 23,
     "metadata": {},
     "output_type": "execute_result"
    }
   ],
   "source": [
    "df_keep"
   ]
  },
  {
   "cell_type": "code",
   "execution_count": 24,
   "metadata": {},
   "outputs": [
    {
     "data": {
      "text/plain": [
       "(193, 2)"
      ]
     },
     "execution_count": 24,
     "metadata": {},
     "output_type": "execute_result"
    }
   ],
   "source": [
    "df = df.iloc[:, df_keep]\n",
    "df.shape"
   ]
  },
  {
   "cell_type": "code",
   "execution_count": 25,
   "metadata": {},
   "outputs": [
    {
     "data": {
      "text/html": [
       "<div>\n",
       "<style scoped>\n",
       "    .dataframe tbody tr th:only-of-type {\n",
       "        vertical-align: middle;\n",
       "    }\n",
       "\n",
       "    .dataframe tbody tr th {\n",
       "        vertical-align: top;\n",
       "    }\n",
       "\n",
       "    .dataframe thead th {\n",
       "        text-align: right;\n",
       "    }\n",
       "</style>\n",
       "<table border=\"1\" class=\"dataframe\">\n",
       "  <thead>\n",
       "    <tr style=\"text-align: right;\">\n",
       "      <th></th>\n",
       "      <th>FundName</th>\n",
       "      <th>Rupeesin000</th>\n",
       "    </tr>\n",
       "  </thead>\n",
       "  <tbody>\n",
       "    <tr>\n",
       "      <th>0</th>\n",
       "      <td>ABL Cash Fund</td>\n",
       "      <td>23,294,324</td>\n",
       "    </tr>\n",
       "    <tr>\n",
       "      <th>4</th>\n",
       "      <td>ABL Government Securities Fund</td>\n",
       "      <td>3,932,977</td>\n",
       "    </tr>\n",
       "    <tr>\n",
       "      <th>5</th>\n",
       "      <td>ABL Income Fund</td>\n",
       "      <td>1,311,426</td>\n",
       "    </tr>\n",
       "    <tr>\n",
       "      <th>6</th>\n",
       "      <td>ABL Islamic Asset Allocation Fund</td>\n",
       "      <td>219,839</td>\n",
       "    </tr>\n",
       "    <tr>\n",
       "      <th>7</th>\n",
       "      <td>ABL Islamic Cash Fund</td>\n",
       "      <td>Not Published</td>\n",
       "    </tr>\n",
       "  </tbody>\n",
       "</table>\n",
       "</div>"
      ],
      "text/plain": [
       "                            FundName    Rupeesin000\n",
       "0                      ABL Cash Fund     23,294,324\n",
       "4     ABL Government Securities Fund      3,932,977\n",
       "5                    ABL Income Fund      1,311,426\n",
       "6  ABL Islamic Asset Allocation Fund        219,839\n",
       "7              ABL Islamic Cash Fund  Not Published"
      ]
     },
     "execution_count": 25,
     "metadata": {},
     "output_type": "execute_result"
    }
   ],
   "source": [
    "df.head()"
   ]
  },
  {
   "cell_type": "code",
   "execution_count": null,
   "metadata": {},
   "outputs": [],
   "source": []
  },
  {
   "cell_type": "code",
   "execution_count": 26,
   "metadata": {},
   "outputs": [],
   "source": [
    "for r in df['Rupeesin000']:  \n",
    "       df['Rupeesin000']=df['Rupeesin000'].replace(\"Not Published\",\"0\")\n",
    "    \n"
   ]
  },
  {
   "cell_type": "code",
   "execution_count": 27,
   "metadata": {},
   "outputs": [
    {
     "data": {
      "text/html": [
       "<div>\n",
       "<style scoped>\n",
       "    .dataframe tbody tr th:only-of-type {\n",
       "        vertical-align: middle;\n",
       "    }\n",
       "\n",
       "    .dataframe tbody tr th {\n",
       "        vertical-align: top;\n",
       "    }\n",
       "\n",
       "    .dataframe thead th {\n",
       "        text-align: right;\n",
       "    }\n",
       "</style>\n",
       "<table border=\"1\" class=\"dataframe\">\n",
       "  <thead>\n",
       "    <tr style=\"text-align: right;\">\n",
       "      <th></th>\n",
       "      <th>FundName</th>\n",
       "      <th>Rupeesin000</th>\n",
       "    </tr>\n",
       "  </thead>\n",
       "  <tbody>\n",
       "    <tr>\n",
       "      <th>0</th>\n",
       "      <td>ABL Cash Fund</td>\n",
       "      <td>23,294,324</td>\n",
       "    </tr>\n",
       "    <tr>\n",
       "      <th>4</th>\n",
       "      <td>ABL Government Securities Fund</td>\n",
       "      <td>3,932,977</td>\n",
       "    </tr>\n",
       "    <tr>\n",
       "      <th>5</th>\n",
       "      <td>ABL Income Fund</td>\n",
       "      <td>1,311,426</td>\n",
       "    </tr>\n",
       "    <tr>\n",
       "      <th>6</th>\n",
       "      <td>ABL Islamic Asset Allocation Fund</td>\n",
       "      <td>219,839</td>\n",
       "    </tr>\n",
       "    <tr>\n",
       "      <th>7</th>\n",
       "      <td>ABL Islamic Cash Fund</td>\n",
       "      <td>0</td>\n",
       "    </tr>\n",
       "    <tr>\n",
       "      <th>14</th>\n",
       "      <td>ABL Islamic Income Fund (Formerly: ABL Islamic...</td>\n",
       "      <td>5,034,684</td>\n",
       "    </tr>\n",
       "    <tr>\n",
       "      <th>15</th>\n",
       "      <td>ABL Islamic Stock Fund</td>\n",
       "      <td>2,064,779</td>\n",
       "    </tr>\n",
       "    <tr>\n",
       "      <th>16</th>\n",
       "      <td>ABL Special Saving Fund (ABL Special Saving Pl...</td>\n",
       "      <td>828,288</td>\n",
       "    </tr>\n",
       "    <tr>\n",
       "      <th>17</th>\n",
       "      <td>ABL Special Saving Fund (ABL Special Saving Pl...</td>\n",
       "      <td>3,740,250</td>\n",
       "    </tr>\n",
       "    <tr>\n",
       "      <th>18</th>\n",
       "      <td>ABL Special Saving Fund (ABL Special Saving Pl...</td>\n",
       "      <td>4,157,601</td>\n",
       "    </tr>\n",
       "  </tbody>\n",
       "</table>\n",
       "</div>"
      ],
      "text/plain": [
       "                                             FundName Rupeesin000\n",
       "0                                       ABL Cash Fund  23,294,324\n",
       "4                      ABL Government Securities Fund   3,932,977\n",
       "5                                     ABL Income Fund   1,311,426\n",
       "6                   ABL Islamic Asset Allocation Fund     219,839\n",
       "7                               ABL Islamic Cash Fund           0\n",
       "14  ABL Islamic Income Fund (Formerly: ABL Islamic...   5,034,684\n",
       "15                             ABL Islamic Stock Fund   2,064,779\n",
       "16  ABL Special Saving Fund (ABL Special Saving Pl...     828,288\n",
       "17  ABL Special Saving Fund (ABL Special Saving Pl...   3,740,250\n",
       "18  ABL Special Saving Fund (ABL Special Saving Pl...   4,157,601"
      ]
     },
     "execution_count": 27,
     "metadata": {},
     "output_type": "execute_result"
    }
   ],
   "source": [
    "df.head(10)"
   ]
  },
  {
   "cell_type": "code",
   "execution_count": 28,
   "metadata": {},
   "outputs": [],
   "source": [
    "\n",
    "df['Date']=Date"
   ]
  },
  {
   "cell_type": "code",
   "execution_count": 29,
   "metadata": {},
   "outputs": [
    {
     "data": {
      "text/html": [
       "<div>\n",
       "<style scoped>\n",
       "    .dataframe tbody tr th:only-of-type {\n",
       "        vertical-align: middle;\n",
       "    }\n",
       "\n",
       "    .dataframe tbody tr th {\n",
       "        vertical-align: top;\n",
       "    }\n",
       "\n",
       "    .dataframe thead th {\n",
       "        text-align: right;\n",
       "    }\n",
       "</style>\n",
       "<table border=\"1\" class=\"dataframe\">\n",
       "  <thead>\n",
       "    <tr style=\"text-align: right;\">\n",
       "      <th></th>\n",
       "      <th>FundName</th>\n",
       "      <th>Rupeesin000</th>\n",
       "      <th>Date</th>\n",
       "    </tr>\n",
       "  </thead>\n",
       "  <tbody>\n",
       "    <tr>\n",
       "      <th>0</th>\n",
       "      <td>ABL Cash Fund</td>\n",
       "      <td>23,294,324</td>\n",
       "      <td>01-2020</td>\n",
       "    </tr>\n",
       "    <tr>\n",
       "      <th>4</th>\n",
       "      <td>ABL Government Securities Fund</td>\n",
       "      <td>3,932,977</td>\n",
       "      <td>01-2020</td>\n",
       "    </tr>\n",
       "    <tr>\n",
       "      <th>5</th>\n",
       "      <td>ABL Income Fund</td>\n",
       "      <td>1,311,426</td>\n",
       "      <td>01-2020</td>\n",
       "    </tr>\n",
       "    <tr>\n",
       "      <th>6</th>\n",
       "      <td>ABL Islamic Asset Allocation Fund</td>\n",
       "      <td>219,839</td>\n",
       "      <td>01-2020</td>\n",
       "    </tr>\n",
       "    <tr>\n",
       "      <th>7</th>\n",
       "      <td>ABL Islamic Cash Fund</td>\n",
       "      <td>0</td>\n",
       "      <td>01-2020</td>\n",
       "    </tr>\n",
       "  </tbody>\n",
       "</table>\n",
       "</div>"
      ],
      "text/plain": [
       "                            FundName Rupeesin000     Date\n",
       "0                      ABL Cash Fund  23,294,324  01-2020\n",
       "4     ABL Government Securities Fund   3,932,977  01-2020\n",
       "5                    ABL Income Fund   1,311,426  01-2020\n",
       "6  ABL Islamic Asset Allocation Fund     219,839  01-2020\n",
       "7              ABL Islamic Cash Fund           0  01-2020"
      ]
     },
     "execution_count": 29,
     "metadata": {},
     "output_type": "execute_result"
    }
   ],
   "source": [
    "df.head()"
   ]
  },
  {
   "cell_type": "code",
   "execution_count": 30,
   "metadata": {},
   "outputs": [
    {
     "data": {
      "text/plain": [
       "(193, 3)"
      ]
     },
     "execution_count": 30,
     "metadata": {},
     "output_type": "execute_result"
    }
   ],
   "source": [
    "df.shape"
   ]
  },
  {
   "cell_type": "code",
   "execution_count": 31,
   "metadata": {},
   "outputs": [
    {
     "data": {
      "text/plain": [
       "FundName       object\n",
       "Rupeesin000    object\n",
       "Date           object\n",
       "dtype: object"
      ]
     },
     "execution_count": 31,
     "metadata": {},
     "output_type": "execute_result"
    }
   ],
   "source": [
    "df.dtypes"
   ]
  },
  {
   "cell_type": "code",
   "execution_count": 32,
   "metadata": {},
   "outputs": [
    {
     "data": {
      "text/plain": [
       "FundName       object\n",
       "Rupeesin000    object\n",
       "Date           object\n",
       "dtype: object"
      ]
     },
     "execution_count": 32,
     "metadata": {},
     "output_type": "execute_result"
    }
   ],
   "source": [
    "df.dtypes"
   ]
  },
  {
   "cell_type": "code",
   "execution_count": 33,
   "metadata": {},
   "outputs": [
    {
     "data": {
      "text/html": [
       "<div>\n",
       "<style scoped>\n",
       "    .dataframe tbody tr th:only-of-type {\n",
       "        vertical-align: middle;\n",
       "    }\n",
       "\n",
       "    .dataframe tbody tr th {\n",
       "        vertical-align: top;\n",
       "    }\n",
       "\n",
       "    .dataframe thead th {\n",
       "        text-align: right;\n",
       "    }\n",
       "</style>\n",
       "<table border=\"1\" class=\"dataframe\">\n",
       "  <thead>\n",
       "    <tr style=\"text-align: right;\">\n",
       "      <th></th>\n",
       "      <th>FundName</th>\n",
       "      <th>Rupeesin000</th>\n",
       "      <th>Date</th>\n",
       "    </tr>\n",
       "  </thead>\n",
       "  <tbody>\n",
       "    <tr>\n",
       "      <th>0</th>\n",
       "      <td>ABL Cash Fund</td>\n",
       "      <td>23,294,324</td>\n",
       "      <td>01-2020</td>\n",
       "    </tr>\n",
       "    <tr>\n",
       "      <th>4</th>\n",
       "      <td>ABL Government Securities Fund</td>\n",
       "      <td>3,932,977</td>\n",
       "      <td>01-2020</td>\n",
       "    </tr>\n",
       "    <tr>\n",
       "      <th>5</th>\n",
       "      <td>ABL Income Fund</td>\n",
       "      <td>1,311,426</td>\n",
       "      <td>01-2020</td>\n",
       "    </tr>\n",
       "    <tr>\n",
       "      <th>6</th>\n",
       "      <td>ABL Islamic Asset Allocation Fund</td>\n",
       "      <td>219,839</td>\n",
       "      <td>01-2020</td>\n",
       "    </tr>\n",
       "    <tr>\n",
       "      <th>7</th>\n",
       "      <td>ABL Islamic Cash Fund</td>\n",
       "      <td>0</td>\n",
       "      <td>01-2020</td>\n",
       "    </tr>\n",
       "    <tr>\n",
       "      <th>14</th>\n",
       "      <td>ABL Islamic Income Fund (Formerly: ABL Islamic...</td>\n",
       "      <td>5,034,684</td>\n",
       "      <td>01-2020</td>\n",
       "    </tr>\n",
       "    <tr>\n",
       "      <th>15</th>\n",
       "      <td>ABL Islamic Stock Fund</td>\n",
       "      <td>2,064,779</td>\n",
       "      <td>01-2020</td>\n",
       "    </tr>\n",
       "    <tr>\n",
       "      <th>16</th>\n",
       "      <td>ABL Special Saving Fund (ABL Special Saving Pl...</td>\n",
       "      <td>828,288</td>\n",
       "      <td>01-2020</td>\n",
       "    </tr>\n",
       "    <tr>\n",
       "      <th>17</th>\n",
       "      <td>ABL Special Saving Fund (ABL Special Saving Pl...</td>\n",
       "      <td>3,740,250</td>\n",
       "      <td>01-2020</td>\n",
       "    </tr>\n",
       "    <tr>\n",
       "      <th>18</th>\n",
       "      <td>ABL Special Saving Fund (ABL Special Saving Pl...</td>\n",
       "      <td>4,157,601</td>\n",
       "      <td>01-2020</td>\n",
       "    </tr>\n",
       "    <tr>\n",
       "      <th>19</th>\n",
       "      <td>ABL Special Saving Fund (ABL Special Saving Pl...</td>\n",
       "      <td>406,337</td>\n",
       "      <td>01-2020</td>\n",
       "    </tr>\n",
       "    <tr>\n",
       "      <th>20</th>\n",
       "      <td>ABL Special Saving Fund (ABL Special Saving Pl...</td>\n",
       "      <td>0</td>\n",
       "      <td>01-2020</td>\n",
       "    </tr>\n",
       "    <tr>\n",
       "      <th>21</th>\n",
       "      <td>ABL Stock Fund</td>\n",
       "      <td>4,849,612</td>\n",
       "      <td>01-2020</td>\n",
       "    </tr>\n",
       "    <tr>\n",
       "      <th>22</th>\n",
       "      <td>Allied Finergy Fund</td>\n",
       "      <td>831,202</td>\n",
       "      <td>01-2020</td>\n",
       "    </tr>\n",
       "    <tr>\n",
       "      <th>23</th>\n",
       "      <td>AKD Aggressive Income Fund (Formerly: AKD Inco...</td>\n",
       "      <td>624,929</td>\n",
       "      <td>01-2020</td>\n",
       "    </tr>\n",
       "    <tr>\n",
       "      <th>24</th>\n",
       "      <td>AKD Cash Fund</td>\n",
       "      <td>1,086,695</td>\n",
       "      <td>01-2020</td>\n",
       "    </tr>\n",
       "    <tr>\n",
       "      <th>25</th>\n",
       "      <td>AKD Index Tracker Fund</td>\n",
       "      <td>451,166</td>\n",
       "      <td>01-2020</td>\n",
       "    </tr>\n",
       "    <tr>\n",
       "      <th>26</th>\n",
       "      <td>AKD Islamic Income Fund</td>\n",
       "      <td>228,418</td>\n",
       "      <td>01-2020</td>\n",
       "    </tr>\n",
       "    <tr>\n",
       "      <th>27</th>\n",
       "      <td>AKD Islamic Stock Fund</td>\n",
       "      <td>148,973</td>\n",
       "      <td>01-2020</td>\n",
       "    </tr>\n",
       "    <tr>\n",
       "      <th>28</th>\n",
       "      <td>AKD Opportunity Fund</td>\n",
       "      <td>1,791,585</td>\n",
       "      <td>01-2020</td>\n",
       "    </tr>\n",
       "  </tbody>\n",
       "</table>\n",
       "</div>"
      ],
      "text/plain": [
       "                                             FundName Rupeesin000     Date\n",
       "0                                       ABL Cash Fund  23,294,324  01-2020\n",
       "4                      ABL Government Securities Fund   3,932,977  01-2020\n",
       "5                                     ABL Income Fund   1,311,426  01-2020\n",
       "6                   ABL Islamic Asset Allocation Fund     219,839  01-2020\n",
       "7                               ABL Islamic Cash Fund           0  01-2020\n",
       "14  ABL Islamic Income Fund (Formerly: ABL Islamic...   5,034,684  01-2020\n",
       "15                             ABL Islamic Stock Fund   2,064,779  01-2020\n",
       "16  ABL Special Saving Fund (ABL Special Saving Pl...     828,288  01-2020\n",
       "17  ABL Special Saving Fund (ABL Special Saving Pl...   3,740,250  01-2020\n",
       "18  ABL Special Saving Fund (ABL Special Saving Pl...   4,157,601  01-2020\n",
       "19  ABL Special Saving Fund (ABL Special Saving Pl...     406,337  01-2020\n",
       "20  ABL Special Saving Fund (ABL Special Saving Pl...           0  01-2020\n",
       "21                                     ABL Stock Fund   4,849,612  01-2020\n",
       "22                                Allied Finergy Fund     831,202  01-2020\n",
       "23  AKD Aggressive Income Fund (Formerly: AKD Inco...     624,929  01-2020\n",
       "24                                      AKD Cash Fund   1,086,695  01-2020\n",
       "25                             AKD Index Tracker Fund     451,166  01-2020\n",
       "26                            AKD Islamic Income Fund     228,418  01-2020\n",
       "27                             AKD Islamic Stock Fund     148,973  01-2020\n",
       "28                               AKD Opportunity Fund   1,791,585  01-2020"
      ]
     },
     "execution_count": 33,
     "metadata": {},
     "output_type": "execute_result"
    }
   ],
   "source": [
    "df.head(20)"
   ]
  },
  {
   "cell_type": "code",
   "execution_count": 34,
   "metadata": {},
   "outputs": [],
   "source": [
    "#Dictionary replace value work incomplete"
   ]
  },
  {
   "cell_type": "code",
   "execution_count": 35,
   "metadata": {},
   "outputs": [
    {
     "data": {
      "text/plain": [
       "FundName       object\n",
       "Rupeesin000    object\n",
       "Date           object\n",
       "dtype: object"
      ]
     },
     "execution_count": 35,
     "metadata": {},
     "output_type": "execute_result"
    }
   ],
   "source": [
    "df.dtypes"
   ]
  },
  {
   "cell_type": "code",
   "execution_count": null,
   "metadata": {},
   "outputs": [],
   "source": []
  },
  {
   "cell_type": "code",
   "execution_count": null,
   "metadata": {},
   "outputs": [],
   "source": []
  },
  {
   "cell_type": "code",
   "execution_count": 35,
   "metadata": {},
   "outputs": [],
   "source": [
    "conn = pyodbc.connect('Driver={SQL Server};'\n",
    "                      'Server=DESKTOP-SKIH3RI\\SQLEXPRESS;'\n",
    "                      'Database=SarmayaSenseDev;'\n",
    "                      'Trusted_Connection=yes;')\n",
    "cursor = conn.cursor()"
   ]
  },
  {
   "cell_type": "code",
   "execution_count": 37,
   "metadata": {},
   "outputs": [],
   "source": [
    "for row in df.itertuples():\n",
    "    cursor.execute('''\n",
    "                INSERT INTO SarmayaSenseDev.dbo.MonthlyAUM(FundName,Rupeesin000,InceptionDate)\n",
    "                VALUES(?,?,?)\n",
    "                ''',\n",
    "                row.FundName,\n",
    "                row.Rupeesin000,\n",
    "                row.Date  \n",
    "                  )\n",
    "conn.commit()"
   ]
  },
  {
   "cell_type": "code",
   "execution_count": null,
   "metadata": {},
   "outputs": [],
   "source": []
  },
  {
   "cell_type": "code",
   "execution_count": null,
   "metadata": {},
   "outputs": [],
   "source": []
  }
 ],
 "metadata": {
  "kernelspec": {
   "display_name": "Python 3",
   "language": "python",
   "name": "python3"
  },
  "language_info": {
   "codemirror_mode": {
    "name": "ipython",
    "version": 3
   },
   "file_extension": ".py",
   "mimetype": "text/x-python",
   "name": "python",
   "nbconvert_exporter": "python",
   "pygments_lexer": "ipython3",
   "version": "3.8.8"
  }
 },
 "nbformat": 4,
 "nbformat_minor": 4
}
